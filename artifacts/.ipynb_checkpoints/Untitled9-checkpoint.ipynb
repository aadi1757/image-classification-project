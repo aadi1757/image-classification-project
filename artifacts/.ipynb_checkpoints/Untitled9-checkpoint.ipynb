{
 "cells": [
  {
   "cell_type": "code",
   "execution_count": 1,
   "metadata": {
    "executionInfo": {
     "elapsed": 4173,
     "status": "ok",
     "timestamp": 1703570223169,
     "user": {
      "displayName": "Aditya Hiralkar",
      "userId": "14810668773139183335"
     },
     "user_tz": -330
    },
    "id": "_Ke-bkkAOFpC"
   },
   "outputs": [],
   "source": [
    "import os\n",
    "import tarfile\n",
    "import cv2\n",
    "import numpy as np\n",
    "import tensorflow as tf\n",
    "from tensorflow.keras.preprocessing.image import ImageDataGenerator\n",
    "import matplotlib.pyplot as plt\n",
    "from tensorflow.keras import Sequential\n",
    "from tensorflow.keras.layers import Input, Dense, Conv2D, MaxPool2D, BatchNormalization, Flatten, Dropout"
   ]
  },
  {
   "cell_type": "code",
   "execution_count": null,
   "metadata": {
    "id": "ht8nGlvorGd7"
   },
   "outputs": [],
   "source": [
    "DATA_PATH = r'/content/drive/MyDrive/cifar10.tgz'\n",
    "FILE_PATH = r'/content/data/cifar10'\n",
    "TRAIN_PATH = os.path.join(FILE_PATH, 'train')\n",
    "VAL_PATH = os.path.join(FILE_PATH, 'test')\n",
    "TARGET_SIZE = (32,32)\n",
    "BATCH_SIZE = 64\n",
    "EPOCHS = 10\n",
    "\n"
   ]
  },
  {
   "cell_type": "code",
   "execution_count": null,
   "metadata": {
    "id": "JF4o4OpYrGZy"
   },
   "outputs": [],
   "source": [
    "with tarfile.open(DATA_PATH, 'r:gz') as tar:\n",
    "  tar.extractall(path = './data')\n",
    "\n"
   ]
  },
  {
   "cell_type": "code",
   "execution_count": null,
   "metadata": {
    "id": "A8VnekIArGWx"
   },
   "outputs": [],
   "source": [
    "classes = os.listdir(TRAIN_PATH)\n",
    "print(len(classes))\n",
    "\n"
   ]
  },
  {
   "cell_type": "code",
   "execution_count": null,
   "metadata": {
    "id": "_fwzlHJQrGT3"
   },
   "outputs": [],
   "source": [
    "image_path = os.path.join(VAL_PATH,'airplane','0001.png')\n",
    "image_metrix = cv2.imread(image_path)\n",
    "\n"
   ]
  },
  {
   "cell_type": "code",
   "execution_count": null,
   "metadata": {
    "id": "8w9uD-vMrGQ9"
   },
   "outputs": [],
   "source": [
    "\n",
    "\n",
    "plt.figure(figsize=(5,5))\n",
    "plt.imshow(image_metrix)\n",
    "\n"
   ]
  },
  {
   "cell_type": "code",
   "execution_count": null,
   "metadata": {
    "id": "KOyX8RTJrGOi"
   },
   "outputs": [],
   "source": [
    "train_datagen_object = ImageDataGenerator(rescale = 1./32,\n",
    "                                          width_shift_range = 0.7,\n",
    "                                          height_shift_range = 0.7,\n",
    "                                          shear_range = 0.7,\n",
    "                                          zoom_range = 0.5,\n",
    "                                          horizontal_flip = True,\n",
    "                                          vertical_flip = True)\n",
    "val_datagen_object = ImageDataGenerator(rescale = 1./32)\n",
    "\n"
   ]
  },
  {
   "cell_type": "code",
   "execution_count": null,
   "metadata": {
    "id": "fx4WIGotrGLz"
   },
   "outputs": [],
   "source": [
    "train_datagen = train_datagen_object.flow_from_directory(directory = TRAIN_PATH,\n",
    "                                                         target_size = TARGET_SIZE,\n",
    "                                                         batch_size = BATCH_SIZE)\n",
    "val_datagen = val_datagen_object.flow_from_directory(directory = VAL_PATH,\n",
    "                                                     target_size = TARGET_SIZE,\n",
    "                                                     batch_size = BATCH_SIZE)\n",
    "\n"
   ]
  },
  {
   "cell_type": "code",
   "execution_count": null,
   "metadata": {
    "id": "GNs9MfC3rGIy"
   },
   "outputs": [],
   "source": [
    "\n",
    "model = Sequential()\n",
    "model.add(Input(TARGET_SIZE.__add__((3,)),\n",
    "                name = 'InputLayer'))\n",
    "model.add(Conv2D(filters = 32,\n",
    "                 kernel_size = (3,3),\n",
    "                 padding = 'same',\n",
    "                 activation = 'relu',\n",
    "                 kernel_initializer = 'he_normal',\n",
    "                 name = 'ConvLayer1'))\n",
    "model.add(MaxPool2D(pool_size=(2,2),\n",
    "                    name = 'PoolingLayer1'))\n",
    "model.add(BatchNormalization())\n",
    "model.add(Conv2D(filters = 64,\n",
    "                 kernel_size = (3,3),\n",
    "                 padding = 'same',\n",
    "                 activation = 'relu',\n",
    "                 kernel_initializer = 'he_normal',\n",
    "                 name = 'ConvLayer2'))\n",
    "model.add(MaxPool2D(pool_size=(2,2),\n",
    "                    name = 'PooingLayer2'))\n",
    "model.add(BatchNormalization())\n",
    "model.add(Flatten())\n",
    "model.add(Dense(units = 512,\n",
    "                activation = 'relu',\n",
    "                kernel_initializer = 'he_normal',\n",
    "                name = 'HiddenLayer1'))\n",
    "model.add(Dropout(rate = 0.3))\n",
    "model.add(BatchNormalization())\n",
    "model.add(Dense(units = 1024,\n",
    "                activation = 'relu',\n",
    "                kernel_initializer = 'he_normal',\n",
    "                name = 'HiddenLayer2'))\n",
    "model.add(Dropout(rate = 0.3))\n",
    "model.add(BatchNormalization())\n",
    "model.add(Dense(units = 10,\n",
    "                activation = 'softmax',\n",
    "                kernel_initializer = 'he_normal',\n",
    "                name = 'OutputLayer'))\n",
    "\n"
   ]
  },
  {
   "cell_type": "code",
   "execution_count": null,
   "metadata": {
    "id": "wHbmeDOKrGF9"
   },
   "outputs": [],
   "source": [
    "model.compile(optimizer = 'Adam',\n",
    "              loss = 'categorical_crossentropy',\n",
    "              metrics = ['accuracy',\n",
    "                         'Precision',\n",
    "                         'Recall'])\n",
    "\n"
   ]
  },
  {
   "cell_type": "code",
   "execution_count": null,
   "metadata": {
    "id": "cQHr-W-arGDT"
   },
   "outputs": [],
   "source": [
    "history_object = model.fit(train_datagen,\n",
    "                          epochs = EPOCHS,\n",
    "                          batch_size = BATCH_SIZE,\n",
    "                          validation_data = val_datagen,\n",
    "                          workers = 10,\n",
    "                          use_multiprocessing = True)"
   ]
  },
  {
   "cell_type": "code",
   "execution_count": null,
   "metadata": {
    "id": "1Qr1_-UhrGAl"
   },
   "outputs": [],
   "source": [
    "model.save('my_cnn_model.tf', save_format = 'tf')"
   ]
  },
  {
   "cell_type": "code",
   "execution_count": null,
   "metadata": {
    "id": "3Tgu5x4urF9v"
   },
   "outputs": [],
   "source": []
  },
  {
   "cell_type": "code",
   "execution_count": null,
   "metadata": {
    "id": "d-80EndNrF7C"
   },
   "outputs": [],
   "source": []
  },
  {
   "cell_type": "code",
   "execution_count": null,
   "metadata": {
    "id": "LGn-TGD0rF4S"
   },
   "outputs": [],
   "source": []
  },
  {
   "cell_type": "code",
   "execution_count": null,
   "metadata": {
    "id": "mTQb8KG2rF1f"
   },
   "outputs": [],
   "source": []
  },
  {
   "cell_type": "code",
   "execution_count": null,
   "metadata": {
    "id": "axXwja0RrFyu"
   },
   "outputs": [],
   "source": []
  },
  {
   "cell_type": "code",
   "execution_count": null,
   "metadata": {
    "id": "qxg47cPLrFwT"
   },
   "outputs": [],
   "source": []
  },
  {
   "cell_type": "code",
   "execution_count": null,
   "metadata": {
    "id": "wRJR7OaGrFtb"
   },
   "outputs": [],
   "source": []
  },
  {
   "cell_type": "code",
   "execution_count": null,
   "metadata": {
    "id": "SCgI5xUrrFqp"
   },
   "outputs": [],
   "source": []
  },
  {
   "cell_type": "code",
   "execution_count": null,
   "metadata": {
    "id": "xWDY7a8nrFoN"
   },
   "outputs": [],
   "source": []
  },
  {
   "cell_type": "code",
   "execution_count": 4,
   "metadata": {
    "executionInfo": {
     "elapsed": 5394,
     "status": "ok",
     "timestamp": 1703523130088,
     "user": {
      "displayName": "Aditya Hiralkar",
      "userId": "14810668773139183335"
     },
     "user_tz": -330
    },
    "id": "MgSKn_pV4iun"
   },
   "outputs": [],
   "source": []
  },
  {
   "cell_type": "code",
   "execution_count": null,
   "metadata": {
    "colab": {
     "base_uri": "https://localhost:8080/"
    },
    "executionInfo": {
     "elapsed": 43784,
     "status": "ok",
     "timestamp": 1703524720965,
     "user": {
      "displayName": "Aditya Hiralkar",
      "userId": "14810668773139183335"
     },
     "user_tz": -330
    },
    "id": "JtZJ_G8X4imX",
    "outputId": "06f1215f-1ec8-4176-8b5f-b271cbce3492"
   },
   "outputs": [],
   "source": []
  },
  {
   "cell_type": "code",
   "execution_count": 8,
   "metadata": {
    "executionInfo": {
     "elapsed": 565,
     "status": "ok",
     "timestamp": 1703524927833,
     "user": {
      "displayName": "Aditya Hiralkar",
      "userId": "14810668773139183335"
     },
     "user_tz": -330
    },
    "id": "HlM7Vf254igN"
   },
   "outputs": [],
   "source": []
  },
  {
   "cell_type": "code",
   "execution_count": null,
   "metadata": {
    "id": "YA_3Fs0h2gQA"
   },
   "outputs": [],
   "source": []
  },
  {
   "cell_type": "code",
   "execution_count": null,
   "metadata": {
    "id": "npLWgs0a2gMd"
   },
   "outputs": [],
   "source": []
  },
  {
   "cell_type": "code",
   "execution_count": null,
   "metadata": {
    "id": "oh1gnNA52gK_"
   },
   "outputs": [],
   "source": []
  },
  {
   "cell_type": "code",
   "execution_count": null,
   "metadata": {
    "id": "nozkrtJ22gIy"
   },
   "outputs": [],
   "source": []
  },
  {
   "cell_type": "code",
   "execution_count": null,
   "metadata": {
    "id": "_PdpPvi02gGz"
   },
   "outputs": [],
   "source": []
  },
  {
   "cell_type": "code",
   "execution_count": null,
   "metadata": {
    "id": "F0gzbQB72gEs"
   },
   "outputs": [],
   "source": []
  },
  {
   "cell_type": "code",
   "execution_count": null,
   "metadata": {
    "id": "TuTjTbb92f-Z"
   },
   "outputs": [],
   "source": []
  }
 ],
 "metadata": {
  "accelerator": "GPU",
  "colab": {
   "authorship_tag": "ABX9TyPoETekkzV9oBl63cLg5fVz",
   "gpuType": "T4",
   "mount_file_id": "1FmYCT2g9BLXW2Syq5O_37OAtQItEade4",
   "provenance": []
  },
  "kernelspec": {
   "display_name": "Python 3 (ipykernel)",
   "language": "python",
   "name": "python3"
  },
  "language_info": {
   "codemirror_mode": {
    "name": "ipython",
    "version": 3
   },
   "file_extension": ".py",
   "mimetype": "text/x-python",
   "name": "python",
   "nbconvert_exporter": "python",
   "pygments_lexer": "ipython3",
   "version": "3.9.12"
  }
 },
 "nbformat": 4,
 "nbformat_minor": 1
}
